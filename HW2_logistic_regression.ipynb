{
  "nbformat": 4,
  "nbformat_minor": 0,
  "metadata": {
    "colab": {
      "provenance": [],
      "include_colab_link": true
    },
    "kernelspec": {
      "name": "python3",
      "display_name": "Python 3"
    }
  },
  "cells": [
    {
      "cell_type": "markdown",
      "metadata": {
        "id": "view-in-github",
        "colab_type": "text"
      },
      "source": [
        "<a href=\"https://colab.research.google.com/github/90485462/ISOM676/blob/main/HW2_logistic_regression.ipynb\" target=\"_parent\"><img src=\"https://colab.research.google.com/assets/colab-badge.svg\" alt=\"Open In Colab\"/></a>"
      ]
    },
    {
      "cell_type": "markdown",
      "metadata": {
        "id": "7SZAiHklax_t"
      },
      "source": [
        "Install PySpark, import library:"
      ]
    },
    {
      "cell_type": "code",
      "metadata": {
        "id": "eChiaWS7Z-zG"
      },
      "source": [
        "!apt-get install openjdk-8-jdk-headless -qq > /dev/null\n",
        "!wget -q https://archive.apache.org/dist/spark/spark-3.2.3/spark-3.2.3-bin-hadoop2.7.tgz\n",
        "!tar xf spark-3.2.3-bin-hadoop2.7.tgz\n",
        "!pip install -q findspark\n",
        "\n",
        "import os\n",
        "os.environ[\"JAVA_HOME\"] = \"/usr/lib/jvm/java-8-openjdk-amd64\"\n",
        "os.environ[\"SPARK_HOME\"] = \"/content/spark-3.2.3-bin-hadoop2.7\"\n",
        "\n",
        "import findspark\n",
        "findspark.init()\n",
        "from pyspark.sql import SparkSession\n",
        "spark = SparkSession.builder.master(\"local[*]\").getOrCreate()"
      ],
      "execution_count": null,
      "outputs": []
    },
    {
      "cell_type": "code",
      "metadata": {
        "id": "PxKpmDnXatbs"
      },
      "source": [
        "# Imports\n",
        "from pyspark.ml.classification import LogisticRegression\n",
        "from pyspark.ml import Pipeline"
      ],
      "execution_count": 35,
      "outputs": []
    },
    {
      "cell_type": "markdown",
      "metadata": {
        "id": "IrFAkcSDa2UR"
      },
      "source": [
        "Load the training data:"
      ]
    },
    {
      "cell_type": "code",
      "source": [
        "from google.colab import drive\n",
        "drive.mount('/content/drive')"
      ],
      "metadata": {
        "colab": {
          "base_uri": "https://localhost:8080/"
        },
        "id": "9EhKenjgXcZ4",
        "outputId": "615a1d32-a55e-4e48-82de-563259099e20"
      },
      "execution_count": 5,
      "outputs": [
        {
          "output_type": "stream",
          "name": "stdout",
          "text": [
            "Mounted at /content/drive\n"
          ]
        }
      ]
    },
    {
      "cell_type": "code",
      "source": [
        "# Load the CSV file\n",
        "path = \"/content/drive/MyDrive/titanic_train.csv\"\n",
        "df = spark.read.csv(path, header=True, inferSchema=True)\n"
      ],
      "metadata": {
        "id": "ja8zE-UoWZJa"
      },
      "execution_count": 26,
      "outputs": []
    },
    {
      "cell_type": "markdown",
      "source": [
        " Familiarize with the dataset:"
      ],
      "metadata": {
        "id": "482710pXw1EQ"
      }
    },
    {
      "cell_type": "code",
      "source": [
        "df.printSchema()"
      ],
      "metadata": {
        "colab": {
          "base_uri": "https://localhost:8080/"
        },
        "id": "giYrtE-5w01U",
        "outputId": "8919cf3e-15ba-4928-c497-44bf257081e4"
      },
      "execution_count": 8,
      "outputs": [
        {
          "output_type": "stream",
          "name": "stdout",
          "text": [
            "root\n",
            " |-- PassengerId: integer (nullable = true)\n",
            " |-- Survived: integer (nullable = true)\n",
            " |-- Pclass: integer (nullable = true)\n",
            " |-- Name: string (nullable = true)\n",
            " |-- Sex: string (nullable = true)\n",
            " |-- Age: double (nullable = true)\n",
            " |-- SibSp: integer (nullable = true)\n",
            " |-- Parch: integer (nullable = true)\n",
            " |-- Ticket: string (nullable = true)\n",
            " |-- Fare: double (nullable = true)\n",
            " |-- Cabin: string (nullable = true)\n",
            " |-- Embarked: string (nullable = true)\n",
            "\n"
          ]
        }
      ]
    },
    {
      "cell_type": "code",
      "source": [
        "df.show(10)"
      ],
      "metadata": {
        "colab": {
          "base_uri": "https://localhost:8080/"
        },
        "id": "wvjdxyi5xVnr",
        "outputId": "1674d8fd-1227-44e0-81af-06b175e78f54"
      },
      "execution_count": 9,
      "outputs": [
        {
          "output_type": "stream",
          "name": "stdout",
          "text": [
            "+-----------+--------+------+--------------------+------+----+-----+-----+----------------+-------+-----+--------+\n",
            "|PassengerId|Survived|Pclass|                Name|   Sex| Age|SibSp|Parch|          Ticket|   Fare|Cabin|Embarked|\n",
            "+-----------+--------+------+--------------------+------+----+-----+-----+----------------+-------+-----+--------+\n",
            "|          1|       0|     3|Braund, Mr. Owen ...|  male|22.0|    1|    0|       A/5 21171|   7.25| null|       S|\n",
            "|          2|       1|     1|Cumings, Mrs. Joh...|female|38.0|    1|    0|        PC 17599|71.2833|  C85|       C|\n",
            "|          3|       1|     3|Heikkinen, Miss. ...|female|26.0|    0|    0|STON/O2. 3101282|  7.925| null|       S|\n",
            "|          4|       1|     1|Futrelle, Mrs. Ja...|female|35.0|    1|    0|          113803|   53.1| C123|       S|\n",
            "|          5|       0|     3|Allen, Mr. Willia...|  male|35.0|    0|    0|          373450|   8.05| null|       S|\n",
            "|          6|       0|     3|    Moran, Mr. James|  male|null|    0|    0|          330877| 8.4583| null|       Q|\n",
            "|          7|       0|     1|McCarthy, Mr. Tim...|  male|54.0|    0|    0|           17463|51.8625|  E46|       S|\n",
            "|          8|       0|     3|Palsson, Master. ...|  male| 2.0|    3|    1|          349909| 21.075| null|       S|\n",
            "|          9|       1|     3|Johnson, Mrs. Osc...|female|27.0|    0|    2|          347742|11.1333| null|       S|\n",
            "|         10|       1|     2|Nasser, Mrs. Nich...|female|14.0|    1|    0|          237736|30.0708| null|       C|\n",
            "+-----------+--------+------+--------------------+------+----+-----+-----+----------------+-------+-----+--------+\n",
            "only showing top 10 rows\n",
            "\n"
          ]
        }
      ]
    },
    {
      "cell_type": "code",
      "source": [
        "df.describe().show()"
      ],
      "metadata": {
        "colab": {
          "base_uri": "https://localhost:8080/"
        },
        "id": "k16oTS8dxVgw",
        "outputId": "5eb526f8-7405-4bc8-ab6c-75476d07ae50"
      },
      "execution_count": 11,
      "outputs": [
        {
          "output_type": "stream",
          "name": "stdout",
          "text": [
            "+-------+-----------------+-------------------+------------------+--------------------+------+------------------+------------------+-------------------+------------------+-----------------+-----+--------+\n",
            "|summary|      PassengerId|           Survived|            Pclass|                Name|   Sex|               Age|             SibSp|              Parch|            Ticket|             Fare|Cabin|Embarked|\n",
            "+-------+-----------------+-------------------+------------------+--------------------+------+------------------+------------------+-------------------+------------------+-----------------+-----+--------+\n",
            "|  count|              891|                891|               891|                 891|   891|               714|               891|                891|               891|              891|  204|     889|\n",
            "|   mean|            446.0| 0.3838383838383838| 2.308641975308642|                null|  null| 29.69911764705882|0.5230078563411896|0.38159371492704824|260318.54916792738| 32.2042079685746| null|    null|\n",
            "| stddev|257.3538420152301|0.48659245426485753|0.8360712409770491|                null|  null|14.526497332334035|1.1027434322934315| 0.8060572211299488|471609.26868834975|49.69342859718089| null|    null|\n",
            "|    min|                1|                  0|                 1|\"Andersson, Mr. A...|female|              0.42|                 0|                  0|            110152|              0.0|  A10|       C|\n",
            "|    max|              891|                  1|                 3|van Melkebeke, Mr...|  male|              80.0|                 8|                  6|         WE/P 5735|         512.3292|    T|       S|\n",
            "+-------+-----------------+-------------------+------------------+--------------------+------+------------------+------------------+-------------------+------------------+-----------------+-----+--------+\n",
            "\n"
          ]
        }
      ]
    },
    {
      "cell_type": "code",
      "source": [
        "from pyspark.sql.functions import col\n",
        "\n",
        "string_columns = [ \"Sex\", \"Cabin\", \"Embarked\"]\n",
        "\n",
        "for column in string_columns:\n",
        "    print(f\"Top 10 most frequent values for {column}:\")\n",
        "    df.groupBy(column).count().orderBy(col(\"count\").desc()).show(10)\n"
      ],
      "metadata": {
        "colab": {
          "base_uri": "https://localhost:8080/"
        },
        "id": "KJEHCsUbxVMM",
        "outputId": "75f2a38c-818c-4195-927a-fc3cf6111fde"
      },
      "execution_count": 27,
      "outputs": [
        {
          "output_type": "stream",
          "name": "stdout",
          "text": [
            "Top 10 most frequent values for Sex:\n",
            "+------+-----+\n",
            "|   Sex|count|\n",
            "+------+-----+\n",
            "|  male|  577|\n",
            "|female|  314|\n",
            "+------+-----+\n",
            "\n",
            "Top 10 most frequent values for Cabin:\n",
            "+-----------+-----+\n",
            "|      Cabin|count|\n",
            "+-----------+-----+\n",
            "|       null|  687|\n",
            "|         G6|    4|\n",
            "|    B96 B98|    4|\n",
            "|C23 C25 C27|    4|\n",
            "|    C22 C26|    3|\n",
            "|        F33|    3|\n",
            "|         F2|    3|\n",
            "|          D|    3|\n",
            "|       E101|    3|\n",
            "|        C65|    2|\n",
            "+-----------+-----+\n",
            "only showing top 10 rows\n",
            "\n",
            "Top 10 most frequent values for Embarked:\n",
            "+--------+-----+\n",
            "|Embarked|count|\n",
            "+--------+-----+\n",
            "|       S|  644|\n",
            "|       C|  168|\n",
            "|       Q|   77|\n",
            "|    null|    2|\n",
            "+--------+-----+\n",
            "\n"
          ]
        }
      ]
    },
    {
      "cell_type": "markdown",
      "source": [
        "Features engineering:"
      ],
      "metadata": {
        "id": "FadqZyz72Xn_"
      }
    },
    {
      "cell_type": "code",
      "source": [
        "# Selecting and Converting Numerical Columns to Double\n",
        "columns = ['Survived', 'Pclass', 'Sex', 'Age', 'SibSp', 'Parch', 'Fare', 'Embarked']\n",
        "df = df.select([col(c).cast(\"double\") if c in ['Pclass', 'Age', 'SibSp', 'Parch', 'Fare'] else col(c) for c in columns])"
      ],
      "metadata": {
        "id": "e3DYX0As2XC6"
      },
      "execution_count": 28,
      "outputs": []
    },
    {
      "cell_type": "code",
      "source": [
        "from pyspark.sql.functions import mean, when\n",
        "\n",
        "# Calculate the mean age\n",
        "mean_age = df.select(mean(col(\"Age\"))).collect()[0][0]\n",
        "\n",
        "# Replace missing values with mean age and create an 'AgeNA' indicator column\n",
        "df = df.withColumn(\"Age\", when(col(\"Age\").isNull(), mean_age).otherwise(col(\"Age\")))\n",
        "df = df.withColumn(\"AgeNA\", when(col(\"Age\").isNull(), 1).otherwise(0))"
      ],
      "metadata": {
        "id": "fAEQCfIO3mhY"
      },
      "execution_count": 29,
      "outputs": []
    },
    {
      "cell_type": "code",
      "source": [
        "df.printSchema()"
      ],
      "metadata": {
        "colab": {
          "base_uri": "https://localhost:8080/"
        },
        "id": "USfkubaT3W8z",
        "outputId": "5b165b3a-1775-43e4-f822-fde8d2bca1ec"
      },
      "execution_count": 30,
      "outputs": [
        {
          "output_type": "stream",
          "name": "stdout",
          "text": [
            "root\n",
            " |-- Survived: integer (nullable = true)\n",
            " |-- Pclass: double (nullable = true)\n",
            " |-- Sex: string (nullable = true)\n",
            " |-- Age: double (nullable = true)\n",
            " |-- SibSp: double (nullable = true)\n",
            " |-- Parch: double (nullable = true)\n",
            " |-- Fare: double (nullable = true)\n",
            " |-- Embarked: string (nullable = true)\n",
            " |-- AgeNA: integer (nullable = false)\n",
            "\n"
          ]
        }
      ]
    },
    {
      "cell_type": "code",
      "source": [
        "# Print the revised DataFrame\n",
        "df.show()\n",
        "\n",
        "# Recalculate summary statistics\n",
        "df.describe().show()"
      ],
      "metadata": {
        "colab": {
          "base_uri": "https://localhost:8080/"
        },
        "id": "p_2FKRH633yU",
        "outputId": "e48afbdd-7efe-4be0-b02e-dd6de13e7d2c"
      },
      "execution_count": 31,
      "outputs": [
        {
          "output_type": "stream",
          "name": "stdout",
          "text": [
            "+--------+------+------+-----------------+-----+-----+-------+--------+-----+\n",
            "|Survived|Pclass|   Sex|              Age|SibSp|Parch|   Fare|Embarked|AgeNA|\n",
            "+--------+------+------+-----------------+-----+-----+-------+--------+-----+\n",
            "|       0|   3.0|  male|             22.0|  1.0|  0.0|   7.25|       S|    0|\n",
            "|       1|   1.0|female|             38.0|  1.0|  0.0|71.2833|       C|    0|\n",
            "|       1|   3.0|female|             26.0|  0.0|  0.0|  7.925|       S|    0|\n",
            "|       1|   1.0|female|             35.0|  1.0|  0.0|   53.1|       S|    0|\n",
            "|       0|   3.0|  male|             35.0|  0.0|  0.0|   8.05|       S|    0|\n",
            "|       0|   3.0|  male|29.69911764705882|  0.0|  0.0| 8.4583|       Q|    0|\n",
            "|       0|   1.0|  male|             54.0|  0.0|  0.0|51.8625|       S|    0|\n",
            "|       0|   3.0|  male|              2.0|  3.0|  1.0| 21.075|       S|    0|\n",
            "|       1|   3.0|female|             27.0|  0.0|  2.0|11.1333|       S|    0|\n",
            "|       1|   2.0|female|             14.0|  1.0|  0.0|30.0708|       C|    0|\n",
            "|       1|   3.0|female|              4.0|  1.0|  1.0|   16.7|       S|    0|\n",
            "|       1|   1.0|female|             58.0|  0.0|  0.0|  26.55|       S|    0|\n",
            "|       0|   3.0|  male|             20.0|  0.0|  0.0|   8.05|       S|    0|\n",
            "|       0|   3.0|  male|             39.0|  1.0|  5.0| 31.275|       S|    0|\n",
            "|       0|   3.0|female|             14.0|  0.0|  0.0| 7.8542|       S|    0|\n",
            "|       1|   2.0|female|             55.0|  0.0|  0.0|   16.0|       S|    0|\n",
            "|       0|   3.0|  male|              2.0|  4.0|  1.0| 29.125|       Q|    0|\n",
            "|       1|   2.0|  male|29.69911764705882|  0.0|  0.0|   13.0|       S|    0|\n",
            "|       0|   3.0|female|             31.0|  1.0|  0.0|   18.0|       S|    0|\n",
            "|       1|   3.0|female|29.69911764705882|  0.0|  0.0|  7.225|       C|    0|\n",
            "+--------+------+------+-----------------+-----+-----+-------+--------+-----+\n",
            "only showing top 20 rows\n",
            "\n",
            "+-------+-------------------+------------------+------+------------------+------------------+-------------------+-----------------+--------+-----+\n",
            "|summary|           Survived|            Pclass|   Sex|               Age|             SibSp|              Parch|             Fare|Embarked|AgeNA|\n",
            "+-------+-------------------+------------------+------+------------------+------------------+-------------------+-----------------+--------+-----+\n",
            "|  count|                891|               891|   891|               891|               891|                891|              891|     889|  891|\n",
            "|   mean| 0.3838383838383838| 2.308641975308642|  null|29.699117647058763|0.5230078563411896|0.38159371492704824| 32.2042079685746|    null|  0.0|\n",
            "| stddev|0.48659245426485753|0.8360712409770491|  null|13.002015226002891|1.1027434322934315| 0.8060572211299488|49.69342859718089|    null|  0.0|\n",
            "|    min|                  0|               1.0|female|              0.42|               0.0|                0.0|              0.0|       C|    0|\n",
            "|    max|                  1|               3.0|  male|              80.0|               8.0|                6.0|         512.3292|       S|    0|\n",
            "+-------+-------------------+------------------+------+------------------+------------------+-------------------+-----------------+--------+-----+\n",
            "\n"
          ]
        }
      ]
    },
    {
      "cell_type": "markdown",
      "source": [
        " Encode string and categorical variables"
      ],
      "metadata": {
        "id": "TInWQh-e6Wbi"
      }
    },
    {
      "cell_type": "code",
      "source": [
        "from pyspark.ml.feature import StringIndexer, OneHotEncoder\n",
        "\n",
        "# Sex\n",
        "sex_indexer = StringIndexer(inputCol=\"Sex\", outputCol=\"SexIndex\").fit(df)\n",
        "sex_encoder = OneHotEncoder(inputCol=\"SexIndex\", outputCol=\"SexVec\")\n",
        "\n",
        "# Embarked, skip the 2 nulls\n",
        "embarked_indexer = StringIndexer(inputCol=\"Embarked\", outputCol=\"EmbarkedIndex\", handleInvalid=\"skip\").fit(df)\n",
        "embarked_encoder = OneHotEncoder(inputCol=\"EmbarkedIndex\", outputCol=\"EmbarkedVec\")"
      ],
      "metadata": {
        "id": "xyiDplyH6YVP"
      },
      "execution_count": 44,
      "outputs": []
    },
    {
      "cell_type": "markdown",
      "source": [
        "Assemble feature columns"
      ],
      "metadata": {
        "id": "moOpzVwlAEiO"
      }
    },
    {
      "cell_type": "code",
      "source": [
        "from pyspark.ml.feature import VectorAssembler\n",
        "\n",
        "featureCols = ['Pclass', 'Age', 'SibSp', 'Parch', 'Fare', 'SexVec', 'EmbarkedVec']\n",
        "\n",
        "assembler = VectorAssembler(inputCols=featureCols, outputCol=\"Features\")"
      ],
      "metadata": {
        "id": "-g8j6sl4AELW"
      },
      "execution_count": 45,
      "outputs": []
    },
    {
      "cell_type": "markdown",
      "metadata": {
        "id": "Eam9brroa7Rc"
      },
      "source": [
        "Create model:"
      ]
    },
    {
      "cell_type": "code",
      "metadata": {
        "id": "97ZRjbF7bBSj"
      },
      "source": [
        "lr = LogisticRegression(featuresCol=\"Features\", labelCol=\"Survived\")"
      ],
      "execution_count": 46,
      "outputs": []
    },
    {
      "cell_type": "markdown",
      "source": [
        " Assemble pipeline:"
      ],
      "metadata": {
        "id": "k0vbuhw8FvuW"
      }
    },
    {
      "cell_type": "code",
      "source": [
        "pipeline = Pipeline(stages=[sex_indexer, sex_encoder, embarked_indexer, embarked_encoder, assembler, lr])"
      ],
      "metadata": {
        "id": "bAvx79jqFaat"
      },
      "execution_count": 47,
      "outputs": []
    },
    {
      "cell_type": "markdown",
      "source": [
        "Split training, testing:"
      ],
      "metadata": {
        "id": "jrUq99NHIaC5"
      }
    },
    {
      "cell_type": "code",
      "source": [
        "train_df, test_df = df.randomSplit([0.7, 0.3], seed=42)\n",
        "\n",
        "print(f\"Training Dataset Count: {train_df.count()}\")\n",
        "print(f\"Test Dataset Count: {test_df.count()}\")"
      ],
      "metadata": {
        "colab": {
          "base_uri": "https://localhost:8080/"
        },
        "id": "Z9jnjXqaIddD",
        "outputId": "ea950d14-9c7f-4ae2-e24b-8b7c27a226be"
      },
      "execution_count": 48,
      "outputs": [
        {
          "output_type": "stream",
          "name": "stdout",
          "text": [
            "Training Dataset Count: 659\n",
            "Test Dataset Count: 232\n"
          ]
        }
      ]
    },
    {
      "cell_type": "markdown",
      "source": [
        "Fit the model:"
      ],
      "metadata": {
        "id": "RAislynbexva"
      }
    },
    {
      "cell_type": "code",
      "source": [
        "lrModel = pipeline.fit(train_df)"
      ],
      "metadata": {
        "id": "dLSznp-VezXn"
      },
      "execution_count": 49,
      "outputs": []
    },
    {
      "cell_type": "code",
      "source": [
        "# Find whether \"male\" or \"female\" was coded as 1 for the SexVec\n",
        "sex_indexer_model = lrModel.stages[0]\n",
        "print(sex_indexer_model.labels)"
      ],
      "metadata": {
        "colab": {
          "base_uri": "https://localhost:8080/"
        },
        "id": "bSPBPd9VOeiL",
        "outputId": "a1b96358-3c62-4602-a46b-472c2465c0c6"
      },
      "execution_count": 60,
      "outputs": [
        {
          "output_type": "stream",
          "name": "stdout",
          "text": [
            "['male', 'female']\n"
          ]
        }
      ]
    },
    {
      "cell_type": "markdown",
      "source": [
        "Make prediction:"
      ],
      "metadata": {
        "id": "z6Rxu6DLLqVO"
      }
    },
    {
      "cell_type": "code",
      "source": [
        "predictions = lrModel.transform(test_df)"
      ],
      "metadata": {
        "id": "GyRlBwmOLqJi"
      },
      "execution_count": 52,
      "outputs": []
    },
    {
      "cell_type": "code",
      "source": [
        "model = lrModel.stages[-1]\n",
        "coefficients = model.coefficients\n",
        "feature_coefficients = zip(featureCols, coefficients)\n",
        "for feature, coeff in feature_coefficients:\n",
        "    print(f\"{feature}: {coeff}\")"
      ],
      "metadata": {
        "colab": {
          "base_uri": "https://localhost:8080/"
        },
        "id": "7kFBZiE9MAFb",
        "outputId": "59887e54-83bb-40ec-c4c7-9d302b1f73dd"
      },
      "execution_count": 57,
      "outputs": [
        {
          "output_type": "stream",
          "name": "stdout",
          "text": [
            "Pclass: -1.222320879745617\n",
            "Age: -0.044331402855583166\n",
            "SibSp: -0.3845725589680685\n",
            "Parch: -0.1609795984088879\n",
            "Fare: 0.0015985666684226567\n",
            "SexVec: -2.5911124684387445\n",
            "EmbarkedVec: -0.4722956606101305\n"
          ]
        }
      ]
    },
    {
      "cell_type": "markdown",
      "source": [
        "Performance evaluation:"
      ],
      "metadata": {
        "id": "xIIBT3S2QUP6"
      }
    },
    {
      "cell_type": "code",
      "source": [
        "predictions.select(\"Prediction\", \"Survived\", \"Probability\", \"rawPrediction\").show(5)"
      ],
      "metadata": {
        "colab": {
          "base_uri": "https://localhost:8080/"
        },
        "id": "quCz5ztZQUxc",
        "outputId": "7995d0f0-0224-4c89-b757-dfc57ec54914"
      },
      "execution_count": 71,
      "outputs": [
        {
          "output_type": "stream",
          "name": "stdout",
          "text": [
            "+----------+--------+--------------------+--------------------+\n",
            "|Prediction|Survived|         Probability|       rawPrediction|\n",
            "+----------+--------+--------------------+--------------------+\n",
            "|       1.0|       0|[0.08048738321473...|[-2.4357433234152...|\n",
            "|       1.0|       0|[0.38446130061956...|[-0.4706546830555...|\n",
            "|       1.0|       0|[0.25389321580763...|[-1.0779549638936...|\n",
            "|       1.0|       0|[0.23396660283693...|[-1.1860473859670...|\n",
            "|       1.0|       0|[0.44982177132360...|[-0.2013908372867...|\n",
            "+----------+--------+--------------------+--------------------+\n",
            "only showing top 5 rows\n",
            "\n"
          ]
        }
      ]
    },
    {
      "cell_type": "code",
      "source": [
        "from pyspark.ml.evaluation import BinaryClassificationEvaluator\n",
        "\n",
        "evaluator = BinaryClassificationEvaluator(labelCol=\"Survived\", rawPredictionCol=\"rawPrediction\", metricName=\"areaUnderROC\")\n",
        "auc = evaluator.evaluate(predictions)\n",
        "print(f\"AUC: {auc}\")"
      ],
      "metadata": {
        "colab": {
          "base_uri": "https://localhost:8080/"
        },
        "id": "gFFGEzFaQejo",
        "outputId": "01285e41-3b72-4d99-abe8-7e666c3c6dad"
      },
      "execution_count": 72,
      "outputs": [
        {
          "output_type": "stream",
          "name": "stdout",
          "text": [
            "AUC: 0.8493678692568609\n"
          ]
        }
      ]
    }
  ]
}